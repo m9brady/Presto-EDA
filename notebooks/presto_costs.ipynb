{
 "cells": [
  {
   "cell_type": "markdown",
   "metadata": {},
   "source": [
    "### Double check that you've exported your transaction history from Presto Online!\n",
    "Should be a `csv` file starting with `'THR'`"
   ]
  },
  {
   "cell_type": "code",
   "execution_count": 1,
   "metadata": {},
   "outputs": [],
   "source": [
    "from pathlib import Path\n",
    "import matplotlib.pyplot as plt\n",
    "import matplotlib.patheffects as pe\n",
    "import numpy as np\n",
    "import pandas as pd"
   ]
  },
  {
   "cell_type": "code",
   "execution_count": 2,
   "metadata": {
    "scrolled": true
   },
   "outputs": [
    {
     "data": {
      "text/html": [
       "<div>\n",
       "<style scoped>\n",
       "    .dataframe tbody tr th:only-of-type {\n",
       "        vertical-align: middle;\n",
       "    }\n",
       "\n",
       "    .dataframe tbody tr th {\n",
       "        vertical-align: top;\n",
       "    }\n",
       "\n",
       "    .dataframe thead th {\n",
       "        text-align: right;\n",
       "    }\n",
       "</style>\n",
       "<table border=\"1\" class=\"dataframe\">\n",
       "  <thead>\n",
       "    <tr style=\"text-align: right;\">\n",
       "      <th></th>\n",
       "      <th>Date</th>\n",
       "      <th>Transit Agency</th>\n",
       "      <th>Type</th>\n",
       "      <th>Service Class</th>\n",
       "      <th>Discount</th>\n",
       "      <th>Amount</th>\n",
       "      <th>Balance</th>\n",
       "    </tr>\n",
       "  </thead>\n",
       "  <tbody>\n",
       "    <tr>\n",
       "      <th>0</th>\n",
       "      <td>6/24/2019 8:34:33 AM</td>\n",
       "      <td>Toronto Transit Commission</td>\n",
       "      <td>Fare Payment</td>\n",
       "      <td>Regular</td>\n",
       "      <td>$0.00</td>\n",
       "      <td>$3.10</td>\n",
       "      <td>$57.78</td>\n",
       "    </tr>\n",
       "    <tr>\n",
       "      <th>1</th>\n",
       "      <td>6/22/2019 11:24:24 PM</td>\n",
       "      <td>Toronto Transit Commission</td>\n",
       "      <td>Fare Payment</td>\n",
       "      <td>Regular</td>\n",
       "      <td>$0.00</td>\n",
       "      <td>$3.10</td>\n",
       "      <td>$60.88</td>\n",
       "    </tr>\n",
       "    <tr>\n",
       "      <th>2</th>\n",
       "      <td>6/22/2019 11:24:24 PM</td>\n",
       "      <td>Toronto Transit Commission</td>\n",
       "      <td>Load Amount</td>\n",
       "      <td>NaN</td>\n",
       "      <td>$0.00</td>\n",
       "      <td>$50.00</td>\n",
       "      <td>$63.98</td>\n",
       "    </tr>\n",
       "  </tbody>\n",
       "</table>\n",
       "</div>"
      ],
      "text/plain": [
       "                    Date              Transit Agency         Type   \\\n",
       "0   6/24/2019 8:34:33 AM  Toronto Transit Commission  Fare Payment   \n",
       "1  6/22/2019 11:24:24 PM  Toronto Transit Commission  Fare Payment   \n",
       "2  6/22/2019 11:24:24 PM  Toronto Transit Commission   Load Amount   \n",
       "\n",
       "  Service Class Discount  Amount Balance  \n",
       "0       Regular    $0.00   $3.10  $57.78  \n",
       "1       Regular    $0.00   $3.10  $60.88  \n",
       "2           NaN    $0.00  $50.00  $63.98  "
      ]
     },
     "execution_count": 2,
     "metadata": {},
     "output_type": "execute_result"
    }
   ],
   "source": [
    "try:\n",
    "    foo = str(list(Path('.').glob('THR_*.csv'))[0])\n",
    "except IndexError:\n",
    "    print(\"YOU DIDN'T GET THE CSV FILE!\\nTHIS INCIDENT WILL BE REPORTED! (╯°□°）╯︵ ┻━┻\\n\\n\\n\\n\\n\\n\")\n",
    "df = pd.read_csv(foo).drop('Location', axis=1)\n",
    "df.head(3)"
   ]
  },
  {
   "cell_type": "code",
   "execution_count": 3,
   "metadata": {},
   "outputs": [],
   "source": [
    "# filthy recasting\n",
    "df['Date'] = df['Date'].astype('datetime64')\n",
    "df['Year'] = df['Date'].dt.year\n",
    "months = ['Jan', 'Feb', 'Mar', 'Apr', 'May', 'Jun', 'Jul', 'Aug', 'Sep', 'Oct', 'Nov', 'Dec']\n",
    "df['Month'] = pd.Categorical(df['Date'].dt.strftime('%b'), categories=months, ordered=True)\n",
    "df['Day'] = df['Date'].dt.day\n",
    "df['Amount'] = df['Amount'].str.replace('$','').str.replace(')','').str.replace('(','-').astype(float)\n",
    "df['Discount'] = df['Discount'].str.replace('$','').str.replace(')','').str.replace('(','-').astype(float)\n",
    "df['Balance'] = df['Balance'].str.replace('$','').str.replace(')','').str.replace('(','-').astype(float)"
   ]
  },
  {
   "cell_type": "code",
   "execution_count": 4,
   "metadata": {},
   "outputs": [],
   "source": [
    "df = df.sort_values(by='Date').reset_index(drop=True)"
   ]
  },
  {
   "cell_type": "code",
   "execution_count": 5,
   "metadata": {
    "scrolled": false
   },
   "outputs": [
    {
     "name": "stdout",
     "output_type": "stream",
     "text": [
      "The day with the highest number of transactions (total of 6) was: Tuesday November 13, 2018\n"
     ]
    }
   ],
   "source": [
    "daily_transaction_counts = df.groupby([\n",
    "    df.Year, df.Month, df.Day\n",
    "])['Type '].count()\n",
    "max_trans = daily_transaction_counts.idxmax()\n",
    "max_trans_dt = pd.datetime.strptime('{}-{}-{}'.format(*max_trans), '%Y-%b-%d')\n",
    "\n",
    "print(\n",
    "    'The day with the highest number of transactions (total of '+\n",
    "    f'{daily_transaction_counts[max_trans]}) was: {max_trans_dt.strftime(\"%A %B %d, %Y\")}'\n",
    ")"
   ]
  },
  {
   "cell_type": "code",
   "execution_count": 6,
   "metadata": {
    "scrolled": true
   },
   "outputs": [
    {
     "name": "stdout",
     "output_type": "stream",
     "text": [
      "The transactions for that date:\n"
     ]
    },
    {
     "data": {
      "text/html": [
       "<div>\n",
       "<style scoped>\n",
       "    .dataframe tbody tr th:only-of-type {\n",
       "        vertical-align: middle;\n",
       "    }\n",
       "\n",
       "    .dataframe tbody tr th {\n",
       "        vertical-align: top;\n",
       "    }\n",
       "\n",
       "    .dataframe thead th {\n",
       "        text-align: right;\n",
       "    }\n",
       "</style>\n",
       "<table border=\"1\" class=\"dataframe\">\n",
       "  <thead>\n",
       "    <tr style=\"text-align: right;\">\n",
       "      <th></th>\n",
       "      <th>Date</th>\n",
       "      <th>Transit Agency</th>\n",
       "      <th>Type</th>\n",
       "      <th>Service Class</th>\n",
       "      <th>Discount</th>\n",
       "      <th>Amount</th>\n",
       "      <th>Balance</th>\n",
       "      <th>Year</th>\n",
       "      <th>Month</th>\n",
       "      <th>Day</th>\n",
       "    </tr>\n",
       "  </thead>\n",
       "  <tbody>\n",
       "    <tr>\n",
       "      <th>32</th>\n",
       "      <td>2018-11-13 08:49:11</td>\n",
       "      <td>Toronto Transit Commission</td>\n",
       "      <td>Fare Payment</td>\n",
       "      <td>Regular</td>\n",
       "      <td>0.0</td>\n",
       "      <td>3.0</td>\n",
       "      <td>2.98</td>\n",
       "      <td>2018</td>\n",
       "      <td>Nov</td>\n",
       "      <td>13</td>\n",
       "    </tr>\n",
       "    <tr>\n",
       "      <th>33</th>\n",
       "      <td>2018-11-13 08:59:48</td>\n",
       "      <td>Toronto Transit Commission</td>\n",
       "      <td>Payment By Credit</td>\n",
       "      <td>NaN</td>\n",
       "      <td>0.0</td>\n",
       "      <td>50.0</td>\n",
       "      <td>0.00</td>\n",
       "      <td>2018</td>\n",
       "      <td>Nov</td>\n",
       "      <td>13</td>\n",
       "    </tr>\n",
       "    <tr>\n",
       "      <th>34</th>\n",
       "      <td>2018-11-13 08:59:48</td>\n",
       "      <td>Toronto Transit Commission</td>\n",
       "      <td>Load Amount</td>\n",
       "      <td>NaN</td>\n",
       "      <td>0.0</td>\n",
       "      <td>50.0</td>\n",
       "      <td>52.98</td>\n",
       "      <td>2018</td>\n",
       "      <td>Nov</td>\n",
       "      <td>13</td>\n",
       "    </tr>\n",
       "    <tr>\n",
       "      <th>35</th>\n",
       "      <td>2018-11-13 12:11:55</td>\n",
       "      <td>Toronto Transit Commission</td>\n",
       "      <td>Fare Payment</td>\n",
       "      <td>Regular</td>\n",
       "      <td>0.0</td>\n",
       "      <td>3.0</td>\n",
       "      <td>49.98</td>\n",
       "      <td>2018</td>\n",
       "      <td>Nov</td>\n",
       "      <td>13</td>\n",
       "    </tr>\n",
       "    <tr>\n",
       "      <th>36</th>\n",
       "      <td>2018-11-13 14:39:15</td>\n",
       "      <td>Toronto Transit Commission</td>\n",
       "      <td>Fare Payment</td>\n",
       "      <td>Regular</td>\n",
       "      <td>0.0</td>\n",
       "      <td>3.0</td>\n",
       "      <td>46.98</td>\n",
       "      <td>2018</td>\n",
       "      <td>Nov</td>\n",
       "      <td>13</td>\n",
       "    </tr>\n",
       "    <tr>\n",
       "      <th>37</th>\n",
       "      <td>2018-11-13 17:56:29</td>\n",
       "      <td>Toronto Transit Commission</td>\n",
       "      <td>Fare Payment</td>\n",
       "      <td>Regular</td>\n",
       "      <td>0.0</td>\n",
       "      <td>3.0</td>\n",
       "      <td>43.98</td>\n",
       "      <td>2018</td>\n",
       "      <td>Nov</td>\n",
       "      <td>13</td>\n",
       "    </tr>\n",
       "  </tbody>\n",
       "</table>\n",
       "</div>"
      ],
      "text/plain": [
       "                  Date              Transit Agency              Type   \\\n",
       "32 2018-11-13 08:49:11  Toronto Transit Commission       Fare Payment   \n",
       "33 2018-11-13 08:59:48  Toronto Transit Commission  Payment By Credit   \n",
       "34 2018-11-13 08:59:48  Toronto Transit Commission        Load Amount   \n",
       "35 2018-11-13 12:11:55  Toronto Transit Commission       Fare Payment   \n",
       "36 2018-11-13 14:39:15  Toronto Transit Commission       Fare Payment   \n",
       "37 2018-11-13 17:56:29  Toronto Transit Commission       Fare Payment   \n",
       "\n",
       "   Service Class  Discount  Amount  Balance  Year Month  Day  \n",
       "32       Regular       0.0     3.0     2.98  2018   Nov   13  \n",
       "33           NaN       0.0    50.0     0.00  2018   Nov   13  \n",
       "34           NaN       0.0    50.0    52.98  2018   Nov   13  \n",
       "35       Regular       0.0     3.0    49.98  2018   Nov   13  \n",
       "36       Regular       0.0     3.0    46.98  2018   Nov   13  \n",
       "37       Regular       0.0     3.0    43.98  2018   Nov   13  "
      ]
     },
     "execution_count": 6,
     "metadata": {},
     "output_type": "execute_result"
    }
   ],
   "source": [
    "print('The transactions for that date:')\n",
    "df.loc[\n",
    "    df['Date'].dt.date == max_trans_dt.date()\n",
    "]"
   ]
  },
  {
   "cell_type": "code",
   "execution_count": 7,
   "metadata": {
    "scrolled": true
   },
   "outputs": [
    {
     "name": "stdout",
     "output_type": "stream",
     "text": [
      "Fares paid using Presto card by year/month\n"
     ]
    },
    {
     "data": {
      "text/plain": [
       "Year  Month\n",
       "2018  May       29.02\n",
       "      Jul        3.00\n",
       "      Aug        3.00\n",
       "      Nov      129.00\n",
       "      Dec       90.00\n",
       "2019  Jan      114.00\n",
       "      Feb      123.00\n",
       "      Mar       81.00\n",
       "      Apr      133.30\n",
       "      May      136.40\n",
       "      Jun       77.50\n",
       "Name: Amount, dtype: float64"
      ]
     },
     "execution_count": 7,
     "metadata": {},
     "output_type": "execute_result"
    }
   ],
   "source": [
    "print('Fares paid using Presto card by year/month')\n",
    "df.loc[\n",
    "    df['Type '] == 'Fare Payment'\n",
    "].groupby([\n",
    "    'Year', 'Month'\n",
    "])['Amount'].sum()"
   ]
  },
  {
   "cell_type": "code",
   "execution_count": 8,
   "metadata": {
    "scrolled": true
   },
   "outputs": [
    {
     "name": "stdout",
     "output_type": "stream",
     "text": [
      "Dollar amount loaded to Presto card by year/month\n"
     ]
    },
    {
     "data": {
      "text/plain": [
       "Year  Month\n",
       "2018  Apr       10.0\n",
       "      May       70.0\n",
       "      Nov      100.0\n",
       "      Dec      100.0\n",
       "2019  Jan      150.0\n",
       "      Feb      100.0\n",
       "      Mar      100.0\n",
       "      Apr      100.0\n",
       "      May      150.0\n",
       "      Jun      100.0\n",
       "Name: Amount, dtype: float64"
      ]
     },
     "execution_count": 8,
     "metadata": {},
     "output_type": "execute_result"
    }
   ],
   "source": [
    "print('Dollar amount loaded to Presto card by year/month')\n",
    "df.loc[\n",
    "    df['Type '] == 'Load Amount'\n",
    "].groupby([\n",
    "    'Year', 'Month'\n",
    "])['Amount'].sum()"
   ]
  },
  {
   "cell_type": "markdown",
   "metadata": {},
   "source": [
    "**NB**: My account is missing a $3 transaction during March 2019 that definitely happened but never made it to Presto servers..."
   ]
  },
  {
   "cell_type": "code",
   "execution_count": 9,
   "metadata": {
    "scrolled": false
   },
   "outputs": [
    {
     "name": "stdout",
     "output_type": "stream",
     "text": [
      "Total amount loaded to card: $980.00\n",
      "Total amount spent on fares: $919.22\n",
      "Expected balance: $60.78\n",
      "Actual balance: $57.78\n"
     ]
    }
   ],
   "source": [
    "loaded = df.loc[df['Type '] == 'Load Amount', 'Amount'].sum()\n",
    "spent = df.loc[df['Type '] == 'Fare Payment', 'Amount'].sum()\n",
    "\n",
    "print(f'Total amount loaded to card: ${loaded:.2f}')\n",
    "print(f'Total amount spent on fares: ${spent:.2f}')\n",
    "print(f'Expected balance: ${loaded-spent:.2f}')\n",
    "print(f'Actual balance: ${df.loc[df[\"Type \"] != \"Transfer\"].iloc[-1].Balance:.2f}')"
   ]
  },
  {
   "cell_type": "code",
   "execution_count": 10,
   "metadata": {},
   "outputs": [
    {
     "data": {
      "text/html": [
       "<div>\n",
       "<style scoped>\n",
       "    .dataframe tbody tr th:only-of-type {\n",
       "        vertical-align: middle;\n",
       "    }\n",
       "\n",
       "    .dataframe tbody tr th {\n",
       "        vertical-align: top;\n",
       "    }\n",
       "\n",
       "    .dataframe thead th {\n",
       "        text-align: right;\n",
       "    }\n",
       "</style>\n",
       "<table border=\"1\" class=\"dataframe\">\n",
       "  <thead>\n",
       "    <tr style=\"text-align: right;\">\n",
       "      <th></th>\n",
       "      <th>Date</th>\n",
       "      <th>Transit Agency</th>\n",
       "      <th>Type</th>\n",
       "      <th>Service Class</th>\n",
       "      <th>Discount</th>\n",
       "      <th>Amount</th>\n",
       "      <th>Balance</th>\n",
       "      <th>Year</th>\n",
       "      <th>Month</th>\n",
       "      <th>Day</th>\n",
       "    </tr>\n",
       "  </thead>\n",
       "  <tbody>\n",
       "    <tr>\n",
       "      <th>353</th>\n",
       "      <td>2019-06-22 18:00:40</td>\n",
       "      <td>Toronto Transit Commission</td>\n",
       "      <td>Fare Payment</td>\n",
       "      <td>Regular</td>\n",
       "      <td>0.0</td>\n",
       "      <td>3.1</td>\n",
       "      <td>13.98</td>\n",
       "      <td>2019</td>\n",
       "      <td>Jun</td>\n",
       "      <td>22</td>\n",
       "    </tr>\n",
       "    <tr>\n",
       "      <th>354</th>\n",
       "      <td>2019-06-22 18:31:15</td>\n",
       "      <td>Toronto Transit Commission</td>\n",
       "      <td>Transfer</td>\n",
       "      <td>Regular</td>\n",
       "      <td>0.0</td>\n",
       "      <td>0.0</td>\n",
       "      <td>0.00</td>\n",
       "      <td>2019</td>\n",
       "      <td>Jun</td>\n",
       "      <td>22</td>\n",
       "    </tr>\n",
       "    <tr>\n",
       "      <th>355</th>\n",
       "      <td>2019-06-22 23:24:24</td>\n",
       "      <td>Toronto Transit Commission</td>\n",
       "      <td>Load Amount</td>\n",
       "      <td>NaN</td>\n",
       "      <td>0.0</td>\n",
       "      <td>50.0</td>\n",
       "      <td>63.98</td>\n",
       "      <td>2019</td>\n",
       "      <td>Jun</td>\n",
       "      <td>22</td>\n",
       "    </tr>\n",
       "    <tr>\n",
       "      <th>356</th>\n",
       "      <td>2019-06-22 23:24:24</td>\n",
       "      <td>Toronto Transit Commission</td>\n",
       "      <td>Fare Payment</td>\n",
       "      <td>Regular</td>\n",
       "      <td>0.0</td>\n",
       "      <td>3.1</td>\n",
       "      <td>60.88</td>\n",
       "      <td>2019</td>\n",
       "      <td>Jun</td>\n",
       "      <td>22</td>\n",
       "    </tr>\n",
       "    <tr>\n",
       "      <th>357</th>\n",
       "      <td>2019-06-24 08:34:33</td>\n",
       "      <td>Toronto Transit Commission</td>\n",
       "      <td>Fare Payment</td>\n",
       "      <td>Regular</td>\n",
       "      <td>0.0</td>\n",
       "      <td>3.1</td>\n",
       "      <td>57.78</td>\n",
       "      <td>2019</td>\n",
       "      <td>Jun</td>\n",
       "      <td>24</td>\n",
       "    </tr>\n",
       "  </tbody>\n",
       "</table>\n",
       "</div>"
      ],
      "text/plain": [
       "                   Date              Transit Agency         Type   \\\n",
       "353 2019-06-22 18:00:40  Toronto Transit Commission  Fare Payment   \n",
       "354 2019-06-22 18:31:15  Toronto Transit Commission      Transfer   \n",
       "355 2019-06-22 23:24:24  Toronto Transit Commission   Load Amount   \n",
       "356 2019-06-22 23:24:24  Toronto Transit Commission  Fare Payment   \n",
       "357 2019-06-24 08:34:33  Toronto Transit Commission  Fare Payment   \n",
       "\n",
       "    Service Class  Discount  Amount  Balance  Year Month  Day  \n",
       "353       Regular       0.0     3.1    13.98  2019   Jun   22  \n",
       "354       Regular       0.0     0.0     0.00  2019   Jun   22  \n",
       "355           NaN       0.0    50.0    63.98  2019   Jun   22  \n",
       "356       Regular       0.0     3.1    60.88  2019   Jun   22  \n",
       "357       Regular       0.0     3.1    57.78  2019   Jun   24  "
      ]
     },
     "execution_count": 10,
     "metadata": {},
     "output_type": "execute_result"
    }
   ],
   "source": [
    "df.tail()"
   ]
  },
  {
   "cell_type": "code",
   "execution_count": 11,
   "metadata": {
    "scrolled": false
   },
   "outputs": [
    {
     "data": {
      "image/png": "[encoded data removed]",
      "text/plain": [
       "<Figure size 900x900 with 1 Axes>"
      ]
     },
     "metadata": {
      "needs_background": "light"
     },
     "output_type": "display_data"
    }
   ],
   "source": [
    "agency_colors = {\n",
    "    'Toronto Transit Commission': '#DB2017', # TTC deep red\n",
    "    'Union Pearson Express': '#4C4807', # UPX forest green\n",
    "}\n",
    "\n",
    "# setup figure params\n",
    "fig, ax = plt.subplots(figsize=(9,9), dpi=100)\n",
    "\n",
    "# only want fare payment amounts, grouped by year/month/agency\n",
    "plot_data = df.loc[\n",
    "    df['Type '] == 'Fare Payment'\n",
    "].groupby([\n",
    "    'Year', 'Month', 'Transit Agency'\n",
    "])['Amount'].sum().unstack('Transit Agency').sort_values(by=['Year', 'Month'])\n",
    "\n",
    "# plot stacked vertical bar\n",
    "plot_data.plot(\n",
    "    kind='bar', \n",
    "    ax=ax, \n",
    "    label='',\n",
    "    width=0.9,\n",
    "    edgecolor='k',\n",
    "    # map agency to correct colour, dark-grey as default\n",
    "    color=[agency_colors.get(agency, '#333333') for agency in plot_data.columns],\n",
    "    stacked=True\n",
    ")\n",
    "\n",
    "# add horizontal line to show where the MDP cost cutoff is\n",
    "# 2018-2019\n",
    "ax.hlines(y=134, xmin=-1, xmax=7.5, label='Metropass Discount Program', linestyles='dashed')\n",
    "ax.annotate('2018-2019: $134.00', (-0.5, 135.6), size=12, color='white', weight='bold', horizontalalignment='left',\n",
    "    path_effects=[pe.withStroke(linewidth=3, foreground='black')]\n",
    ")\n",
    "# 2019-2020\n",
    "ax.hlines(y=138.55, xmin=7.5, xmax=len(plot_data), label=None, linestyles='dashed')\n",
    "ax.annotate('2019-2020: $138.55', (ax.get_xlim()[1].round(2)-0.2, 140.5), size=12, color='white', weight='bold', horizontalalignment='right',\n",
    "    path_effects=[pe.withStroke(linewidth=3, foreground='black')]\n",
    ")\n",
    "# add vertical lines connecting the MDP transitions\n",
    "ax.vlines(x=7.5, ymin=134, ymax=138.55, label=None, linestyles='dashed')\n",
    "\n",
    "# add $ values for bar components\n",
    "# thanks Tom A. : https://stackoverflow.com/a/25449186\n",
    "# thanks xg.plt.py : https://stackoverflow.com/a/50161387\n",
    "for p in ax.patches:\n",
    "    if p.get_height() != 0:\n",
    "        width, height = p.get_width(), p.get_height()\n",
    "        x, y = p.get_xy()\n",
    "        ax.annotate(\n",
    "            '${:.2f}'.format(height), \n",
    "            (x + width * 0.5, y + height * 0.5),\n",
    "            ha='center',\n",
    "            va='center',\n",
    "            color='white',\n",
    "            weight='bold',\n",
    "            path_effects=[pe.withStroke(linewidth=3, foreground='black')]\n",
    "        )\n",
    "\n",
    "# plot formatting\n",
    "ax.set_title('Monthly Presto Fare Payment Totals by Agency')\n",
    "ax.set_xticklabels(\n",
    "    ['%s - %s' % pair for pair in plot_data.index.tolist()],\n",
    "    rotation = 45\n",
    ")\n",
    "ax.set_ylabel('Amount spent on fares ($)')\n",
    "ax.set_xlabel('Year/Month')\n",
    "ax.set_ylim(top=160)\n",
    "ax.legend(framealpha=1, edgecolor='k', loc='upper left')\n",
    "fig.tight_layout();"
   ]
  }
 ],
 "metadata": {
  "kernelspec": {
   "display_name": "Python 3",
   "language": "python",
   "name": "python3"
  },
  "language_info": {
   "codemirror_mode": {
    "name": "ipython",
    "version": 3
   },
   "file_extension": ".py",
   "mimetype": "text/x-python",
   "name": "python",
   "nbconvert_exporter": "python",
   "pygments_lexer": "ipython3",
   "version": "3.6.8"
  }
 },
 "nbformat": 4,
 "nbformat_minor": 2
}
