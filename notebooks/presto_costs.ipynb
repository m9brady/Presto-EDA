{
 "cells": [
  {
   "cell_type": "markdown",
   "metadata": {},
   "source": [
    "### Double check that you've exported your transaction history from Presto Online!\n",
    "Should be a `csv` file starting with `'THR'`"
   ]
  },
  {
   "cell_type": "code",
   "execution_count": 1,
   "metadata": {},
   "outputs": [],
   "source": [
    "from pathlib import Path\n",
    "import matplotlib.pyplot as plt\n",
    "import numpy as np\n",
    "import pandas as pd"
   ]
  },
  {
   "cell_type": "code",
   "execution_count": 2,
   "metadata": {},
   "outputs": [
    {
     "data": {
      "text/html": [
       "<div>\n",
       "<style scoped>\n",
       "    .dataframe tbody tr th:only-of-type {\n",
       "        vertical-align: middle;\n",
       "    }\n",
       "\n",
       "    .dataframe tbody tr th {\n",
       "        vertical-align: top;\n",
       "    }\n",
       "\n",
       "    .dataframe thead th {\n",
       "        text-align: right;\n",
       "    }\n",
       "</style>\n",
       "<table border=\"1\" class=\"dataframe\">\n",
       "  <thead>\n",
       "    <tr style=\"text-align: right;\">\n",
       "      <th></th>\n",
       "      <th>Date</th>\n",
       "      <th>Transit Agency</th>\n",
       "      <th>Type</th>\n",
       "      <th>Service Class</th>\n",
       "      <th>Discount</th>\n",
       "      <th>Amount</th>\n",
       "      <th>Balance</th>\n",
       "    </tr>\n",
       "  </thead>\n",
       "  <tbody>\n",
       "    <tr>\n",
       "      <th>0</th>\n",
       "      <td>1/11/2019 5:06:45 PM</td>\n",
       "      <td>Toronto Transit Commission</td>\n",
       "      <td>Fare Payment</td>\n",
       "      <td>Regular</td>\n",
       "      <td>$0.00</td>\n",
       "      <td>$3.00</td>\n",
       "      <td>$39.98</td>\n",
       "    </tr>\n",
       "    <tr>\n",
       "      <th>1</th>\n",
       "      <td>1/11/2019 8:47:37 AM</td>\n",
       "      <td>Toronto Transit Commission</td>\n",
       "      <td>Fare Payment</td>\n",
       "      <td>Regular</td>\n",
       "      <td>$0.00</td>\n",
       "      <td>$3.00</td>\n",
       "      <td>$42.98</td>\n",
       "    </tr>\n",
       "    <tr>\n",
       "      <th>2</th>\n",
       "      <td>1/10/2019 5:03:56 PM</td>\n",
       "      <td>Toronto Transit Commission</td>\n",
       "      <td>Fare Payment</td>\n",
       "      <td>Regular</td>\n",
       "      <td>$0.00</td>\n",
       "      <td>$3.00</td>\n",
       "      <td>$45.98</td>\n",
       "    </tr>\n",
       "  </tbody>\n",
       "</table>\n",
       "</div>"
      ],
      "text/plain": [
       "                   Date              Transit Agency         Type   \\\n",
       "0  1/11/2019 5:06:45 PM  Toronto Transit Commission  Fare Payment   \n",
       "1  1/11/2019 8:47:37 AM  Toronto Transit Commission  Fare Payment   \n",
       "2  1/10/2019 5:03:56 PM  Toronto Transit Commission  Fare Payment   \n",
       "\n",
       "  Service Class Discount Amount Balance  \n",
       "0       Regular    $0.00  $3.00  $39.98  \n",
       "1       Regular    $0.00  $3.00  $42.98  \n",
       "2       Regular    $0.00  $3.00  $45.98  "
      ]
     },
     "execution_count": 2,
     "metadata": {},
     "output_type": "execute_result"
    }
   ],
   "source": [
    "try:\n",
    "    foo = str(list(Path('.').glob('THR_*.csv'))[0])\n",
    "except IndexError:\n",
    "    print(\"YOU DIDN'T GET THE CSV FILE!\\nTHIS INCIDENT WILL BE REPORTED! (╯°□°）╯︵ ┻━┻\\n\\n\\n\\n\\n\\n\")\n",
    "df = pd.read_csv(foo).drop('Location', axis=1)\n",
    "df.head(3)"
   ]
  },
  {
   "cell_type": "code",
   "execution_count": 3,
   "metadata": {},
   "outputs": [],
   "source": [
    "# filthy recasting\n",
    "df['Date'] = df['Date'].astype('datetime64')\n",
    "df['Year'] = df['Date'].dt.year\n",
    "months = ['Jan', 'Feb', 'Mar', 'Apr', 'May', 'Jun', 'Jul', 'Aug', 'Sep', 'Oct', 'Nov', 'Dec']\n",
    "df['Month'] = pd.Categorical(df['Date'].dt.strftime('%b'), categories=months, ordered=True)\n",
    "df['Day'] = df['Date'].dt.day\n",
    "df['Amount'] = df['Amount'].str.replace('$','').str.replace(')','').str.replace('(','-').astype(float)\n",
    "df['Discount'] = df['Discount'].str.replace('$','').str.replace(')','').str.replace('(','-').astype(float)\n",
    "df['Balance'] = df['Balance'].str.replace('$','').str.replace(')','').str.replace('(','-').astype(float)"
   ]
  },
  {
   "cell_type": "code",
   "execution_count": 4,
   "metadata": {},
   "outputs": [],
   "source": [
    "df.sort_values(by='Date', inplace=True)"
   ]
  },
  {
   "cell_type": "code",
   "execution_count": 5,
   "metadata": {
    "scrolled": false
   },
   "outputs": [
    {
     "name": "stdout",
     "output_type": "stream",
     "text": [
      "The day with the highest number of transactions (total of 6) was: Tuesday November 13, 2018\n"
     ]
    }
   ],
   "source": [
    "daily_transaction_counts = df.groupby([\n",
    "    df.Year, df.Month, df.Day\n",
    "])['Type '].count()\n",
    "max_trans = daily_transaction_counts.idxmax()\n",
    "max_trans_dt = pd.datetime.strptime('{}-{}-{}'.format(*max_trans), '%Y-%b-%d')\n",
    "\n",
    "print(\n",
    "    'The day with the highest number of transactions (total of '+\n",
    "    f'{daily_transaction_counts[max_trans]}) was: {max_trans_dt.strftime(\"%A %B %d, %Y\")}'\n",
    ")"
   ]
  },
  {
   "cell_type": "code",
   "execution_count": 6,
   "metadata": {
    "scrolled": true
   },
   "outputs": [
    {
     "name": "stdout",
     "output_type": "stream",
     "text": [
      "The transactions for that date:\n"
     ]
    },
    {
     "data": {
      "text/html": [
       "<div>\n",
       "<style scoped>\n",
       "    .dataframe tbody tr th:only-of-type {\n",
       "        vertical-align: middle;\n",
       "    }\n",
       "\n",
       "    .dataframe tbody tr th {\n",
       "        vertical-align: top;\n",
       "    }\n",
       "\n",
       "    .dataframe thead th {\n",
       "        text-align: right;\n",
       "    }\n",
       "</style>\n",
       "<table border=\"1\" class=\"dataframe\">\n",
       "  <thead>\n",
       "    <tr style=\"text-align: right;\">\n",
       "      <th></th>\n",
       "      <th>Date</th>\n",
       "      <th>Transit Agency</th>\n",
       "      <th>Type</th>\n",
       "      <th>Service Class</th>\n",
       "      <th>Discount</th>\n",
       "      <th>Amount</th>\n",
       "      <th>Balance</th>\n",
       "      <th>Year</th>\n",
       "      <th>Month</th>\n",
       "      <th>Day</th>\n",
       "    </tr>\n",
       "  </thead>\n",
       "  <tbody>\n",
       "    <tr>\n",
       "      <th>92</th>\n",
       "      <td>2018-11-13 08:49:11</td>\n",
       "      <td>Toronto Transit Commission</td>\n",
       "      <td>Fare Payment</td>\n",
       "      <td>Regular</td>\n",
       "      <td>0.0</td>\n",
       "      <td>3.0</td>\n",
       "      <td>2.98</td>\n",
       "      <td>2018</td>\n",
       "      <td>Nov</td>\n",
       "      <td>13</td>\n",
       "    </tr>\n",
       "    <tr>\n",
       "      <th>91</th>\n",
       "      <td>2018-11-13 08:59:48</td>\n",
       "      <td>Toronto Transit Commission</td>\n",
       "      <td>Payment By Credit</td>\n",
       "      <td>NaN</td>\n",
       "      <td>0.0</td>\n",
       "      <td>50.0</td>\n",
       "      <td>0.00</td>\n",
       "      <td>2018</td>\n",
       "      <td>Nov</td>\n",
       "      <td>13</td>\n",
       "    </tr>\n",
       "    <tr>\n",
       "      <th>90</th>\n",
       "      <td>2018-11-13 08:59:48</td>\n",
       "      <td>Toronto Transit Commission</td>\n",
       "      <td>Load Amount</td>\n",
       "      <td>NaN</td>\n",
       "      <td>0.0</td>\n",
       "      <td>50.0</td>\n",
       "      <td>52.98</td>\n",
       "      <td>2018</td>\n",
       "      <td>Nov</td>\n",
       "      <td>13</td>\n",
       "    </tr>\n",
       "    <tr>\n",
       "      <th>89</th>\n",
       "      <td>2018-11-13 12:11:55</td>\n",
       "      <td>Toronto Transit Commission</td>\n",
       "      <td>Fare Payment</td>\n",
       "      <td>Regular</td>\n",
       "      <td>0.0</td>\n",
       "      <td>3.0</td>\n",
       "      <td>49.98</td>\n",
       "      <td>2018</td>\n",
       "      <td>Nov</td>\n",
       "      <td>13</td>\n",
       "    </tr>\n",
       "    <tr>\n",
       "      <th>88</th>\n",
       "      <td>2018-11-13 14:39:15</td>\n",
       "      <td>Toronto Transit Commission</td>\n",
       "      <td>Fare Payment</td>\n",
       "      <td>Regular</td>\n",
       "      <td>0.0</td>\n",
       "      <td>3.0</td>\n",
       "      <td>46.98</td>\n",
       "      <td>2018</td>\n",
       "      <td>Nov</td>\n",
       "      <td>13</td>\n",
       "    </tr>\n",
       "    <tr>\n",
       "      <th>87</th>\n",
       "      <td>2018-11-13 17:56:29</td>\n",
       "      <td>Toronto Transit Commission</td>\n",
       "      <td>Fare Payment</td>\n",
       "      <td>Regular</td>\n",
       "      <td>0.0</td>\n",
       "      <td>3.0</td>\n",
       "      <td>43.98</td>\n",
       "      <td>2018</td>\n",
       "      <td>Nov</td>\n",
       "      <td>13</td>\n",
       "    </tr>\n",
       "  </tbody>\n",
       "</table>\n",
       "</div>"
      ],
      "text/plain": [
       "                  Date              Transit Agency              Type   \\\n",
       "92 2018-11-13 08:49:11  Toronto Transit Commission       Fare Payment   \n",
       "91 2018-11-13 08:59:48  Toronto Transit Commission  Payment By Credit   \n",
       "90 2018-11-13 08:59:48  Toronto Transit Commission        Load Amount   \n",
       "89 2018-11-13 12:11:55  Toronto Transit Commission       Fare Payment   \n",
       "88 2018-11-13 14:39:15  Toronto Transit Commission       Fare Payment   \n",
       "87 2018-11-13 17:56:29  Toronto Transit Commission       Fare Payment   \n",
       "\n",
       "   Service Class  Discount  Amount  Balance  Year Month  Day  \n",
       "92       Regular       0.0     3.0     2.98  2018   Nov   13  \n",
       "91           NaN       0.0    50.0     0.00  2018   Nov   13  \n",
       "90           NaN       0.0    50.0    52.98  2018   Nov   13  \n",
       "89       Regular       0.0     3.0    49.98  2018   Nov   13  \n",
       "88       Regular       0.0     3.0    46.98  2018   Nov   13  \n",
       "87       Regular       0.0     3.0    43.98  2018   Nov   13  "
      ]
     },
     "execution_count": 6,
     "metadata": {},
     "output_type": "execute_result"
    }
   ],
   "source": [
    "print('The transactions for that date:')\n",
    "df.loc[\n",
    "    df['Date'].dt.date == max_trans_dt.date()\n",
    "]"
   ]
  },
  {
   "cell_type": "code",
   "execution_count": 7,
   "metadata": {
    "scrolled": true
   },
   "outputs": [
    {
     "name": "stdout",
     "output_type": "stream",
     "text": [
      "Fares paid using Presto card by year/month\n"
     ]
    },
    {
     "data": {
      "text/plain": [
       "Year  Month\n",
       "2018  May       29.02\n",
       "      Jul        3.00\n",
       "      Aug        3.00\n",
       "      Nov      129.00\n",
       "      Dec       90.00\n",
       "2019  Jan       36.00\n",
       "Name: Amount, dtype: float64"
      ]
     },
     "execution_count": 7,
     "metadata": {},
     "output_type": "execute_result"
    }
   ],
   "source": [
    "print('Fares paid using Presto card by year/month')\n",
    "df.loc[\n",
    "    df['Type '] == 'Fare Payment'\n",
    "].groupby([\n",
    "    'Year', 'Month'\n",
    "])['Amount'].sum()"
   ]
  },
  {
   "cell_type": "code",
   "execution_count": 8,
   "metadata": {
    "scrolled": true
   },
   "outputs": [
    {
     "name": "stdout",
     "output_type": "stream",
     "text": [
      "Dollar amount loaded to Presto card by year/month\n"
     ]
    },
    {
     "data": {
      "text/plain": [
       "Year  Month\n",
       "2018  Apr       10.0\n",
       "      May       70.0\n",
       "      Nov      100.0\n",
       "      Dec      100.0\n",
       "2019  Jan       50.0\n",
       "Name: Amount, dtype: float64"
      ]
     },
     "execution_count": 8,
     "metadata": {},
     "output_type": "execute_result"
    }
   ],
   "source": [
    "print('Dollar amount loaded to Presto card by year/month')\n",
    "df.loc[\n",
    "    df['Type '] == 'Load Amount'\n",
    "].groupby([\n",
    "    'Year', 'Month'\n",
    "])['Amount'].sum()"
   ]
  },
  {
   "cell_type": "code",
   "execution_count": 9,
   "metadata": {
    "scrolled": false
   },
   "outputs": [
    {
     "name": "stdout",
     "output_type": "stream",
     "text": [
      "Total amount loaded to card: $330.00\n",
      "Total amount spent on fares: $290.02\n",
      "Expected balance: $39.98\n",
      "Actual balance: $39.98\n"
     ]
    }
   ],
   "source": [
    "loaded = df.loc[df['Type '] == 'Load Amount', 'Amount'].sum()\n",
    "spent = df.loc[df['Type '] == 'Fare Payment', 'Amount'].sum()\n",
    "\n",
    "print(f'Total amount loaded to card: ${loaded:.2f}')\n",
    "print(f'Total amount spent on fares: ${spent:.2f}')\n",
    "print(f'Expected balance: ${loaded-spent:.2f}')\n",
    "print(f'Actual balance: ${df.loc[df[\"Type \"] != \"Transfer\"].iloc[-1].Balance:.2f}')"
   ]
  },
  {
   "cell_type": "code",
   "execution_count": 10,
   "metadata": {},
   "outputs": [
    {
     "data": {
      "text/html": [
       "<div>\n",
       "<style scoped>\n",
       "    .dataframe tbody tr th:only-of-type {\n",
       "        vertical-align: middle;\n",
       "    }\n",
       "\n",
       "    .dataframe tbody tr th {\n",
       "        vertical-align: top;\n",
       "    }\n",
       "\n",
       "    .dataframe thead th {\n",
       "        text-align: right;\n",
       "    }\n",
       "</style>\n",
       "<table border=\"1\" class=\"dataframe\">\n",
       "  <thead>\n",
       "    <tr style=\"text-align: right;\">\n",
       "      <th></th>\n",
       "      <th>Date</th>\n",
       "      <th>Transit Agency</th>\n",
       "      <th>Type</th>\n",
       "      <th>Service Class</th>\n",
       "      <th>Discount</th>\n",
       "      <th>Amount</th>\n",
       "      <th>Balance</th>\n",
       "      <th>Year</th>\n",
       "      <th>Month</th>\n",
       "      <th>Day</th>\n",
       "    </tr>\n",
       "  </thead>\n",
       "  <tbody>\n",
       "    <tr>\n",
       "      <th>4</th>\n",
       "      <td>2019-01-10 08:47:31</td>\n",
       "      <td>Toronto Transit Commission</td>\n",
       "      <td>Payment By Credit</td>\n",
       "      <td>NaN</td>\n",
       "      <td>0.0</td>\n",
       "      <td>50.25</td>\n",
       "      <td>0.00</td>\n",
       "      <td>2019</td>\n",
       "      <td>Jan</td>\n",
       "      <td>10</td>\n",
       "    </tr>\n",
       "    <tr>\n",
       "      <th>3</th>\n",
       "      <td>2019-01-10 08:47:31</td>\n",
       "      <td>Toronto Transit Commission</td>\n",
       "      <td>Load Amount</td>\n",
       "      <td>NaN</td>\n",
       "      <td>0.0</td>\n",
       "      <td>50.00</td>\n",
       "      <td>48.98</td>\n",
       "      <td>2019</td>\n",
       "      <td>Jan</td>\n",
       "      <td>10</td>\n",
       "    </tr>\n",
       "    <tr>\n",
       "      <th>2</th>\n",
       "      <td>2019-01-10 17:03:56</td>\n",
       "      <td>Toronto Transit Commission</td>\n",
       "      <td>Fare Payment</td>\n",
       "      <td>Regular</td>\n",
       "      <td>0.0</td>\n",
       "      <td>3.00</td>\n",
       "      <td>45.98</td>\n",
       "      <td>2019</td>\n",
       "      <td>Jan</td>\n",
       "      <td>10</td>\n",
       "    </tr>\n",
       "    <tr>\n",
       "      <th>1</th>\n",
       "      <td>2019-01-11 08:47:37</td>\n",
       "      <td>Toronto Transit Commission</td>\n",
       "      <td>Fare Payment</td>\n",
       "      <td>Regular</td>\n",
       "      <td>0.0</td>\n",
       "      <td>3.00</td>\n",
       "      <td>42.98</td>\n",
       "      <td>2019</td>\n",
       "      <td>Jan</td>\n",
       "      <td>11</td>\n",
       "    </tr>\n",
       "    <tr>\n",
       "      <th>0</th>\n",
       "      <td>2019-01-11 17:06:45</td>\n",
       "      <td>Toronto Transit Commission</td>\n",
       "      <td>Fare Payment</td>\n",
       "      <td>Regular</td>\n",
       "      <td>0.0</td>\n",
       "      <td>3.00</td>\n",
       "      <td>39.98</td>\n",
       "      <td>2019</td>\n",
       "      <td>Jan</td>\n",
       "      <td>11</td>\n",
       "    </tr>\n",
       "  </tbody>\n",
       "</table>\n",
       "</div>"
      ],
      "text/plain": [
       "                 Date              Transit Agency              Type   \\\n",
       "4 2019-01-10 08:47:31  Toronto Transit Commission  Payment By Credit   \n",
       "3 2019-01-10 08:47:31  Toronto Transit Commission        Load Amount   \n",
       "2 2019-01-10 17:03:56  Toronto Transit Commission       Fare Payment   \n",
       "1 2019-01-11 08:47:37  Toronto Transit Commission       Fare Payment   \n",
       "0 2019-01-11 17:06:45  Toronto Transit Commission       Fare Payment   \n",
       "\n",
       "  Service Class  Discount  Amount  Balance  Year Month  Day  \n",
       "4           NaN       0.0   50.25     0.00  2019   Jan   10  \n",
       "3           NaN       0.0   50.00    48.98  2019   Jan   10  \n",
       "2       Regular       0.0    3.00    45.98  2019   Jan   10  \n",
       "1       Regular       0.0    3.00    42.98  2019   Jan   11  \n",
       "0       Regular       0.0    3.00    39.98  2019   Jan   11  "
      ]
     },
     "execution_count": 10,
     "metadata": {},
     "output_type": "execute_result"
    }
   ],
   "source": [
    "df.tail()"
   ]
  },
  {
   "cell_type": "code",
   "execution_count": 11,
   "metadata": {},
   "outputs": [
    {
     "data": {
      "image/png": "[encoded data removed]",
      "text/plain": [
       "<Figure size 900x900 with 1 Axes>"
      ]
     },
     "metadata": {
      "needs_background": "light"
     },
     "output_type": "display_data"
    }
   ],
   "source": [
    "# order is important\n",
    "agency_colors = [\n",
    "    '#DB2017', # TTC deep red\n",
    "    '#4C4807', # UPX forest green\n",
    "]\n",
    "\n",
    "# setup figure params\n",
    "fig, ax = plt.subplots(figsize=(9,9), dpi=100)\n",
    "\n",
    "# only want fare payment amounts, grouped by year/month/agency\n",
    "plot_data = df.loc[\n",
    "    df['Type '] == 'Fare Payment'\n",
    "].groupby([\n",
    "    'Year', 'Month', 'Transit Agency'\n",
    "])['Amount'].sum().unstack('Transit Agency')\n",
    "\n",
    "# plot stacked vertical bar\n",
    "plot_data.plot(kind='bar', ax=ax, label='', color=agency_colors, stacked=True)\n",
    "\n",
    "# add horizontal line to show where the MDP cost cutoff is\n",
    "ax.hlines(\n",
    "    y=134, \n",
    "    xmin=-1, \n",
    "    xmax=len(plot_data), \n",
    "    label = None, \n",
    "    linestyles='dashed'\n",
    ")\n",
    "ax.annotate(\n",
    "    'Metropass Discount Program monthly cost ($134)',\n",
    "    (1, 135.5)\n",
    ")\n",
    "\n",
    "# add $ values for bar components\n",
    "# thanks Tom A. : https://stackoverflow.com/a/25449186\n",
    "# thanks xg.plt.py : https://stackoverflow.com/a/50161387\n",
    "for p in ax.patches:\n",
    "    if p.get_height() != 0:\n",
    "        width, height = p.get_width(), p.get_height()\n",
    "        x, y = p.get_xy()\n",
    "        ax.annotate(\n",
    "            '${:.2f}'.format(height), \n",
    "            (x + width * 0.5, y + height * 0.5),\n",
    "            ha='center',\n",
    "            va='center',\n",
    "            color='white'\n",
    "        )\n",
    "\n",
    "# plot formatting\n",
    "ax.set_title('Monthly Presto fare payment totals by Agency')\n",
    "ax.set_xticklabels(\n",
    "    ['%s - %s' % pair for pair in plot_data.index.tolist()],\n",
    "    rotation = 45\n",
    ")\n",
    "ax.set_ylabel('Amount spent on fares ($)')\n",
    "ax.set_xlabel('Year/Month')\n",
    "ax.set_ylim(top=160)\n",
    "ax.legend(framealpha=1)\n",
    "fig.tight_layout();"
   ]
  }
 ],
 "metadata": {
  "kernelspec": {
   "display_name": "Python 3",
   "language": "python",
   "name": "python3"
  },
  "language_info": {
   "codemirror_mode": {
    "name": "ipython",
    "version": 3
   },
   "file_extension": ".py",
   "mimetype": "text/x-python",
   "name": "python",
   "nbconvert_exporter": "python",
   "pygments_lexer": "ipython3",
   "version": "3.6.8"
  }
 },
 "nbformat": 4,
 "nbformat_minor": 2
}
